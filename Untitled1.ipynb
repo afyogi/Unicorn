{
 "cells": [
  {
   "cell_type": "code",
   "execution_count": 4,
   "metadata": {},
   "outputs": [],
   "source": [
    "from os.path import join, dirname\n",
    "import datetime\n",
    "\n",
    "import pandas as pd\n",
    "from scipy.signal import savgol_filter\n",
    "\n",
    "from bokeh.io import curdoc\n",
    "from bokeh.layouts import row, column\n",
    "from bokeh.models import ColumnDataSource, DataRange1d, Select\n",
    "from bokeh.palettes import Blues4\n",
    "from bokeh.plotting import figure"
   ]
  },
  {
   "cell_type": "code",
   "execution_count": null,
   "metadata": {},
   "outputs": [],
   "source": [
    "def get_dataset(src, name, distribution):\n",
    "    df = src[src.airport == name].copy()\n",
    "    del df['airport']\n",
    "    df['date'] = pd.to_datetime(df.date)\n",
    "    # timedelta here instead of pd.DateOffset to avoid pandas bug < 0.18 (Pandas issue #11925)\n",
    "    df['left'] = df.date - datetime.timedelta(days=0.5)\n",
    "    df['right'] = df.date + datetime.timedelta(days=0.5)\n",
    "    df = df.set_index(['date'])\n",
    "    df.sort_index(inplace=True)\n",
    "    if distribution == 'Smoothed':\n",
    "        window, order = 51, 3\n",
    "        for key in STATISTICS:\n",
    "            df[key] = savgol_filter(df[key], window, order)\n",
    "\n",
    "return ColumnDataSource(data=df)"
   ]
  }
 ],
 "metadata": {
  "kernelspec": {
   "display_name": "Python 2",
   "language": "python",
   "name": "python2"
  },
  "language_info": {
   "codemirror_mode": {
    "name": "ipython",
    "version": 2
   },
   "file_extension": ".py",
   "mimetype": "text/x-python",
   "name": "python",
   "nbconvert_exporter": "python",
   "pygments_lexer": "ipython2",
   "version": "2.7.15"
  }
 },
 "nbformat": 4,
 "nbformat_minor": 2
}
